{
 "cells": [
  {
   "cell_type": "markdown",
   "id": "44e7c8c3-9bb2-45a2-ac32-3a0fda4e3e4f",
   "metadata": {},
   "source": [
    "1. Declare two variables, `x` and `y`, and assign them integer values.\n",
    "Swap the values of these variables without using any temporary\n",
    "variable."
   ]
  },
  {
   "cell_type": "code",
   "execution_count": 85,
   "id": "46d4c2c8-6830-4d25-989e-8577ab5a29c4",
   "metadata": {},
   "outputs": [],
   "source": [
    "x = 1,2,3,4\n",
    "y = 2,3,4,5\n",
    "x,y=y,x"
   ]
  },
  {
   "cell_type": "code",
   "execution_count": 86,
   "id": "ff6cd815-4339-4452-a130-10d6e5e15b06",
   "metadata": {},
   "outputs": [
    {
     "data": {
      "text/plain": [
       "(2, 3, 4, 5)"
      ]
     },
     "execution_count": 86,
     "metadata": {},
     "output_type": "execute_result"
    }
   ],
   "source": [
    "x"
   ]
  },
  {
   "cell_type": "code",
   "execution_count": 87,
   "id": "78409e51-287e-402c-8088-31211f70bd0a",
   "metadata": {},
   "outputs": [
    {
     "data": {
      "text/plain": [
       "(1, 2, 3, 4)"
      ]
     },
     "execution_count": 87,
     "metadata": {},
     "output_type": "execute_result"
    }
   ],
   "source": [
    "y"
   ]
  },
  {
   "cell_type": "markdown",
   "id": "446c8388-62ed-474d-9b14-f7147c54723d",
   "metadata": {},
   "source": [
    "2. Create a program that calculates the area of a rectangle. Take the\n",
    "length and width as inputs from the user and store them in variables.\n",
    "Calculate and display the area."
   ]
  },
  {
   "cell_type": "code",
   "execution_count": 88,
   "id": "6e1d263d-1b9c-40a8-97cc-13ca99be3c9c",
   "metadata": {},
   "outputs": [
    {
     "name": "stdin",
     "output_type": "stream",
     "text": [
      "enter the length 4\n",
      "enter the width 6\n"
     ]
    },
    {
     "name": "stdout",
     "output_type": "stream",
     "text": [
      "24\n"
     ]
    }
   ],
   "source": [
    "length= int(input('enter the length'))\n",
    "width = int(input('enter the width'))\n",
    "area = length * width\n",
    "print(area)"
   ]
  },
  {
   "cell_type": "markdown",
   "id": "c55aabac-8162-46bc-9b8a-0f13dce03ee9",
   "metadata": {},
   "source": [
    "1. Write a Python program that takes a string as input and prints the\n",
    "length of the string."
   ]
  },
  {
   "cell_type": "code",
   "execution_count": 89,
   "id": "9949177c-57c9-46d8-9f7a-3484f97a1600",
   "metadata": {},
   "outputs": [
    {
     "data": {
      "text/plain": [
       "15"
      ]
     },
     "execution_count": 89,
     "metadata": {},
     "output_type": "execute_result"
    }
   ],
   "source": [
    "S = 'my name avichal'\n",
    "len(S)"
   ]
  },
  {
   "cell_type": "code",
   "execution_count": 90,
   "id": "38657ea6-f63d-4419-8e60-66aade86671c",
   "metadata": {},
   "outputs": [
    {
     "name": "stdin",
     "output_type": "stream",
     "text": [
      "enter the string 5\n"
     ]
    },
    {
     "name": "stdout",
     "output_type": "stream",
     "text": [
      "1\n"
     ]
    }
   ],
   "source": [
    "s=input('enter the string')\n",
    "print(len(s))"
   ]
  },
  {
   "cell_type": "markdown",
   "id": "feab9916-4f65-4ee7-b4bd-4e58ced43b0a",
   "metadata": {},
   "source": [
    "2. Create a program that takes a sentence from the user and counts the\n",
    "number of vowels (a, e, i, o, u) in the string."
   ]
  },
  {
   "cell_type": "code",
   "execution_count": 91,
   "id": "21a18666-f309-4131-a927-f0292218b364",
   "metadata": {},
   "outputs": [
    {
     "name": "stdout",
     "output_type": "stream",
     "text": [
      "3\n"
     ]
    }
   ],
   "source": [
    "s = 'avichal'\n",
    "vowels = \"aeiou\"\n",
    "count = sum(s.count(vowel) for vowel in vowels)\n",
    "print(count)"
   ]
  },
  {
   "cell_type": "markdown",
   "id": "a2d3ce54-2f78-4ece-9ce9-60558f7a7651",
   "metadata": {},
   "source": [
    "3. Given a string, reverse the order of characters using string slicing and\n",
    "print the reversed string."
   ]
  },
  {
   "cell_type": "code",
   "execution_count": 92,
   "id": "0c299511-5392-48ef-ab01-ed9abf581c44",
   "metadata": {},
   "outputs": [
    {
     "name": "stdout",
     "output_type": "stream",
     "text": [
      "esruoc ecneics atad ot emoclew\n"
     ]
    }
   ],
   "source": [
    "s = \"welcome to data science course\"\n",
    "s1=s[::-1]\n",
    "print(s1)"
   ]
  },
  {
   "cell_type": "markdown",
   "id": "88c7e85a-2241-403b-9b2d-9f1030070d8b",
   "metadata": {},
   "source": [
    "4. Write a program that takes a string as input and checks if it is a\n",
    "palindrome (reads the same forwards and backwards)."
   ]
  },
  {
   "cell_type": "code",
   "execution_count": 93,
   "id": "a8eaf086-5971-40b4-b265-69e7091533ac",
   "metadata": {},
   "outputs": [
    {
     "name": "stdout",
     "output_type": "stream",
     "text": [
      "string is palindrome\n"
     ]
    }
   ],
   "source": [
    "S = \"mom\"\n",
    "if S[::-1]==S:\n",
    "    print('string is palindrome')\n",
    "else:\n",
    "    print('string is not palindrome')"
   ]
  },
  {
   "cell_type": "code",
   "execution_count": 94,
   "id": "bf99fef2-d7f2-4672-a01e-1c069393fa44",
   "metadata": {},
   "outputs": [
    {
     "name": "stdin",
     "output_type": "stream",
     "text": [
      "enter the palindrome mom\n"
     ]
    },
    {
     "name": "stdout",
     "output_type": "stream",
     "text": [
      "string is palindrome\n"
     ]
    }
   ],
   "source": [
    "S = input('enter the palindrome')\n",
    "if S[::-1]==S:\n",
    "    print('string is palindrome')\n",
    "else:\n",
    "    print('string is not palindrome')"
   ]
  },
  {
   "cell_type": "markdown",
   "id": "ec5133a8-a152-4469-aa9e-8b08562303cb",
   "metadata": {},
   "source": [
    "5. Create a program that takes a string as input and removes all the\n",
    "spaces from it. Print the modified string without spaces."
   ]
  },
  {
   "cell_type": "code",
   "execution_count": 95,
   "id": "76b156aa-1a9c-4391-b59c-62686079e09c",
   "metadata": {},
   "outputs": [
    {
     "data": {
      "text/plain": [
       "'mynameisavichal'"
      ]
     },
     "execution_count": 95,
     "metadata": {},
     "output_type": "execute_result"
    }
   ],
   "source": [
    "s = \"my name is avichal\"\n",
    "s1=s.replace(\" \",\"\")\n",
    "s1\n"
   ]
  },
  {
   "cell_type": "markdown",
   "id": "0be23d6c-832e-4cc0-a9fb-feb7bd977199",
   "metadata": {},
   "source": [
    "3. Write a Python program that converts temperature from Celsius to\n",
    "Fahrenheit. Take the temperature in Celsius as input, store it in a\n",
    "variable, convert it to Fahrenheit, and display the result."
   ]
  },
  {
   "cell_type": "code",
   "execution_count": 96,
   "id": "078a88a7-064e-4112-bcfd-c6027d37f258",
   "metadata": {},
   "outputs": [
    {
     "name": "stdin",
     "output_type": "stream",
     "text": [
      "enter the temp 23\n"
     ]
    },
    {
     "name": "stdout",
     "output_type": "stream",
     "text": [
      "73.4\n"
     ]
    }
   ],
   "source": [
    "celsius =int(input('enter the temp'))\n",
    "fahrenheit = (celsius * 1.8) + 32\n",
    "print(fahrenheit)"
   ]
  },
  {
   "cell_type": "code",
   "execution_count": null,
   "id": "fba041df-e80d-4e3b-9423-98fa3afb54bb",
   "metadata": {},
   "outputs": [],
   "source": []
  }
 ],
 "metadata": {
  "kernelspec": {
   "display_name": "Python 3 (ipykernel)",
   "language": "python",
   "name": "python3"
  },
  "language_info": {
   "codemirror_mode": {
    "name": "ipython",
    "version": 3
   },
   "file_extension": ".py",
   "mimetype": "text/x-python",
   "name": "python",
   "nbconvert_exporter": "python",
   "pygments_lexer": "ipython3",
   "version": "3.10.8"
  }
 },
 "nbformat": 4,
 "nbformat_minor": 5
}
